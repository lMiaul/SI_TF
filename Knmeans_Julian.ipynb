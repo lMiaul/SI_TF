{
  "nbformat": 4,
  "nbformat_minor": 0,
  "metadata": {
    "colab": {
      "provenance": [],
      "authorship_tag": "ABX9TyP9Ii2/wtdYt947ahmrrEEY",
      "include_colab_link": true
    },
    "kernelspec": {
      "name": "python3",
      "display_name": "Python 3"
    },
    "language_info": {
      "name": "python"
    }
  },
  "cells": [
    {
      "cell_type": "markdown",
      "metadata": {
        "id": "view-in-github",
        "colab_type": "text"
      },
      "source": [
        "<a href=\"https://colab.research.google.com/github/lMiaul/SI_TF/blob/feat%2Fjulian/Knmeans_Julian.ipynb\" target=\"_parent\"><img src=\"https://colab.research.google.com/assets/colab-badge.svg\" alt=\"Open In Colab\"/></a>"
      ]
    },
    {
      "cell_type": "code",
      "source": [
        "from google.colab import drive\n",
        "# Montar Google Drive\n",
        "drive.mount('/content/drive')"
      ],
      "metadata": {
        "colab": {
          "base_uri": "https://localhost:8080/"
        },
        "id": "UKOE8FR20qxs",
        "outputId": "2cfec980-df09-497e-f308-e9ec19b88582"
      },
      "execution_count": 5,
      "outputs": [
        {
          "output_type": "stream",
          "name": "stdout",
          "text": [
            "Mounted at /content/drive\n"
          ]
        }
      ]
    },
    {
      "cell_type": "code",
      "source": [
        "# Importar las librerías necesarias\n",
        "import pandas as pd\n",
        "import numpy as np\n",
        "import matplotlib.pyplot as plt\n",
        "import seaborn as sns\n",
        "from sklearn.cluster import KMeans, DBSCAN\n",
        "from sklearn.preprocessing import StandardScaler\n",
        "from sklearn.decomposition import PCA\n"
      ],
      "metadata": {
        "id": "82XXbohn1WZQ"
      },
      "execution_count": 3,
      "outputs": []
    },
    {
      "cell_type": "code",
      "source": [
        "# Cargar el archivo CSV desde Google Drive usando un delimitador diferente\n",
        "file_path = '/content/drive/MyDrive/SI/B. Generación Anual de residuos municipal_Distrital_2014_2021_0.csv'\n",
        "data = pd.read_csv(file_path, delimiter=';', encoding='latin1')"
      ],
      "metadata": {
        "id": "5fjScHjV1ZwW"
      },
      "execution_count": 13,
      "outputs": []
    },
    {
      "cell_type": "code",
      "execution_count": 14,
      "metadata": {
        "id": "WoP_3jXyOBqc",
        "colab": {
          "base_uri": "https://localhost:8080/"
        },
        "outputId": "d9ac0384-ffa2-4165-e2a9-51d6d0bd3dab"
      },
      "outputs": [
        {
          "output_type": "stream",
          "name": "stdout",
          "text": [
            "  FECHA_CORTE  N_SEC  UBIGEO REG_NAT DEPARTAMENTO    PROVINCIA     DISTRITO  \\\n",
            "0   9/01/2023      1   10101   SELVA     AMAZONAS  CHACHAPOYAS  CHACHAPOYAS   \n",
            "1   9/01/2023      2   10102   SELVA     AMAZONAS  CHACHAPOYAS     ASUNCION   \n",
            "2   9/01/2023      3   10103  SIERRA     AMAZONAS  CHACHAPOYAS       BALSAS   \n",
            "3   9/01/2023      4   10104  SIERRA     AMAZONAS  CHACHAPOYAS        CHETO   \n",
            "4   9/01/2023      5   10105  SIERRA     AMAZONAS  CHACHAPOYAS    CHILIQUIN   \n",
            "\n",
            "   POB_TOTAL  POB_URBANA  POB_RURAL QRESIDUOS_MUN  PERIODO  \n",
            "0      28423       27548        875       6939,28     2014  \n",
            "1        291         151        140         47,95     2014  \n",
            "2       1615         299       1316         69,95     2014  \n",
            "3        597         388        209         90,84     2014  \n",
            "4        737         197        540         46,26     2014  \n"
          ]
        }
      ],
      "source": [
        "# Mostrar las primeras filas del dataset para entender su estructura\n",
        "print(data.head())"
      ]
    },
    {
      "cell_type": "code",
      "source": [
        "# Verificar los nombres de las columnas en el DataFrame\n",
        "print(\"Columnas en el DataFrame:\", data.columns)\n"
      ],
      "metadata": {
        "colab": {
          "base_uri": "https://localhost:8080/"
        },
        "id": "wg6-SXxi3-hI",
        "outputId": "2ac66037-4d67-4e99-fe6a-d3532398dd35"
      },
      "execution_count": 15,
      "outputs": [
        {
          "output_type": "stream",
          "name": "stdout",
          "text": [
            "Columnas en el DataFrame: Index(['FECHA_CORTE', 'N_SEC', 'UBIGEO', 'REG_NAT', 'DEPARTAMENTO',\n",
            "       'PROVINCIA', 'DISTRITO', 'POB_TOTAL', 'POB_URBANA', 'POB_RURAL',\n",
            "       'QRESIDUOS_MUN', 'PERIODO'],\n",
            "      dtype='object')\n"
          ]
        }
      ]
    },
    {
      "cell_type": "code",
      "source": [
        "# Ajustar los nombres de las columnas de interés basándonos en la salida anterior\n",
        "columns_of_interest = ['QRESIDUOS_MUN', 'POB_TOTAL', 'POB_URBANA', 'POB_RURAL', 'PERIODO']"
      ],
      "metadata": {
        "id": "w8fYd77x4gGr"
      },
      "execution_count": 16,
      "outputs": []
    },
    {
      "cell_type": "code",
      "source": [
        "# Seleccionar las columnas relevantes para el clustering\n",
        "data_selected = data[columns_of_interest]"
      ],
      "metadata": {
        "id": "Gusxtus14iff"
      },
      "execution_count": 18,
      "outputs": []
    }
  ]
}